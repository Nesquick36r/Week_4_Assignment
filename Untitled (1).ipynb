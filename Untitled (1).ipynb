{
 "cells": [
  {
   "cell_type": "markdown",
   "id": "08de7af3-7151-410a-80c6-81b4f91bf416",
   "metadata": {},
   "source": [
    "# My Jupyter Notebook on IBM Watson Studio!"
   ]
  },
  {
   "cell_type": "markdown",
   "id": "70c90746-309a-495a-a7b8-5851cf165be8",
   "metadata": {},
   "source": [
    "**My name is Nestor, right now I'm a remote sales agent for a reservation software company, but looking to land a job as a data analyst or scientist elsewhere**"
   ]
  },
  {
   "cell_type": "markdown",
   "id": "dae49b47-7dff-485b-849e-80a75f0ad77b",
   "metadata": {},
   "source": [
    "_The main thing (or things) that made me interested in data science are the tools and programs used to gain insights from data, and what can be gain from just looking at random sets of it_"
   ]
  },
  {
   "cell_type": "markdown",
   "id": "beb12ab9-f2a7-45a6-8a70-53b848a625f5",
   "metadata": {},
   "source": [
    "### The code in Cell 5 just assigns values to x and y, then puts them into a math problem."
   ]
  },
  {
   "cell_type": "code",
   "execution_count": 4,
   "id": "1bf5d087-9b14-48a3-a6e3-893a2cc83d73",
   "metadata": {},
   "outputs": [
    {
     "data": {
      "text/plain": [
       "16"
      ]
     },
     "execution_count": 4,
     "metadata": {},
     "output_type": "execute_result"
    }
   ],
   "source": [
    "x=5\n",
    "y=6\n",
    "x + x + y"
   ]
  },
  {
   "cell_type": "markdown",
   "id": "4afe4670-0084-4bcb-8eee-198b95246e99",
   "metadata": {},
   "source": [
    "## Cell 6 is just going to contain:\n",
    "* a bulletin point\n",
    "1. some numbers\n",
    "2. _more numbers_\n",
    "* a hyperlink to a gif (https://c.tenor.com/JMzBeLgNaSoAAAAi/banana-dance.gif)\n",
    "* and lastly a random list"
   ]
  },
  {
   "cell_type": "markdown",
   "id": "a9f406f4-091d-4b79-b5c0-18b51f2357a8",
   "metadata": {},
   "source": [
    "   | Car | Model |\n",
    "| ------ | ------ |\n",
    "| Honda | Civic |\n",
    "| Subaru | Outback |\n",
    "| Porsche | 911 |"
   ]
  },
  {
   "cell_type": "code",
   "execution_count": null,
   "id": "b40a7944-8a29-4730-b672-494a9ef776b0",
   "metadata": {},
   "outputs": [],
   "source": []
  }
 ],
 "metadata": {
  "kernelspec": {
   "display_name": "Python",
   "language": "python",
   "name": "conda-env-python-py"
  },
  "language_info": {
   "codemirror_mode": {
    "name": "ipython",
    "version": 3
   },
   "file_extension": ".py",
   "mimetype": "text/x-python",
   "name": "python",
   "nbconvert_exporter": "python",
   "pygments_lexer": "ipython3",
   "version": "3.7.12"
  }
 },
 "nbformat": 4,
 "nbformat_minor": 5
}
